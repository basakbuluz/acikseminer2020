{
 "cells": [
  {
   "cell_type": "code",
   "execution_count": null,
   "metadata": {
    "colab": {},
    "colab_type": "code",
    "id": "BuUoRac82uYY"
   },
   "outputs": [],
   "source": [
    "from gensim.models import KeyedVectors\n",
    "\n",
    "import warnings\n",
    "warnings.filterwarnings('ignore')"
   ]
  },
  {
   "cell_type": "markdown",
   "metadata": {},
   "source": [
    "Model, 77270207 toplam kelimeden ve 257016 cümleden oluşan bir korpus ile 5 kelimelik pencereler alınarak eğitilmiş ve her kelime için 400 boyut vektörüdür."
   ]
  },
  {
   "cell_type": "code",
   "execution_count": null,
   "metadata": {
    "colab": {},
    "colab_type": "code",
    "id": "Bkrnb6we1LB7"
   },
   "outputs": [],
   "source": [
    "word2vec_model_path = 'models/tr_word2vec/tr-word2veq-20190320'"
   ]
  },
  {
   "cell_type": "code",
   "execution_count": null,
   "metadata": {
    "colab": {},
    "colab_type": "code",
    "id": "WT-bHqcX1cTV"
   },
   "outputs": [],
   "source": [
    "model = KeyedVectors.load_word2vec_format(word2vec_model_path, binary=True)"
   ]
  },
  {
   "cell_type": "markdown",
   "metadata": {
    "colab_type": "text",
    "id": "5tdqLetZ9rff"
   },
   "source": [
    "**most_similar list**"
   ]
  },
  {
   "cell_type": "code",
   "execution_count": null,
   "metadata": {
    "colab": {
     "base_uri": "https://localhost:8080/",
     "height": 245
    },
    "colab_type": "code",
    "id": "3RovMvwv2SJB",
    "outputId": "05c5dbc6-8c72-4eb3-a805-7210aaa77886"
   },
   "outputs": [],
   "source": [
    "test_list = ['kadın','macera','korku','virüs', 'başak','yavuz', 'okul', 'seminer']\n",
    "for l in test_list:\n",
    "    try:\n",
    "        print(\"\\n{} : \".format(l), model.most_similar(l,topn=3))\n",
    "    except Exception as e:\n",
    "        print(\"\\nError: {}\".format(e))"
   ]
  },
  {
   "cell_type": "markdown",
   "metadata": {
    "colab_type": "text",
    "id": "8hEY0qna96Su"
   },
   "source": [
    "**most_similar**"
   ]
  },
  {
   "cell_type": "code",
   "execution_count": null,
   "metadata": {
    "colab": {
     "base_uri": "https://localhost:8080/",
     "height": 191
    },
    "colab_type": "code",
    "id": "3iRH-wV22MX1",
    "outputId": "e405c9ae-eda3-47d7-e1f3-434abf544cae"
   },
   "outputs": [],
   "source": [
    "result = model.similar_by_word(\"virüs\")\n",
    "result"
   ]
  },
  {
   "cell_type": "markdown",
   "metadata": {
    "colab_type": "text",
    "id": "4J9ZsJa69zDG"
   },
   "source": [
    "**analogy**"
   ]
  },
  {
   "cell_type": "code",
   "execution_count": null,
   "metadata": {
    "colab": {
     "base_uri": "https://localhost:8080/",
     "height": 34
    },
    "colab_type": "code",
    "id": "1wQQVHp510YH",
    "outputId": "784a1844-366e-4c0f-b10b-c8a9bceb4fa3"
   },
   "outputs": [],
   "source": [
    "result = model.most_similar(positive=['kadın', 'kral'], negative=['adam'])\n",
    "print(\"{}: {:.4f}\".format(*result[0]))"
   ]
  },
  {
   "cell_type": "code",
   "execution_count": null,
   "metadata": {
    "colab": {
     "base_uri": "https://localhost:8080/",
     "height": 34
    },
    "colab_type": "code",
    "id": "YXoUHA629dQI",
    "outputId": "6bdc352c-ba99-4a3c-e70e-20872cdff060"
   },
   "outputs": [],
   "source": [
    "result = model.most_similar(positive=['suriye','şam'],negative=['yemen'], topn=5)\n",
    "print(result)"
   ]
  },
  {
   "cell_type": "code",
   "execution_count": null,
   "metadata": {},
   "outputs": [],
   "source": [
    "result = model.most_similar(positive=['hemşire','baba'],negative=['anne'], topn=5)\n",
    "print(result)"
   ]
  },
  {
   "cell_type": "code",
   "execution_count": null,
   "metadata": {
    "colab": {
     "base_uri": "https://localhost:8080/",
     "height": 191
    },
    "colab_type": "code",
    "id": "QCoaIakZ-Fda",
    "outputId": "a7eec889-8d42-46f3-b70a-8cc5b313ddb4"
   },
   "outputs": [],
   "source": [
    "model.most_similar(positive=[\"varank\",\"teknoloji\"])"
   ]
  },
  {
   "cell_type": "markdown",
   "metadata": {
    "colab_type": "text",
    "id": "gP8SKAMj-G3U"
   },
   "source": [
    "**word to vec**"
   ]
  },
  {
   "cell_type": "code",
   "execution_count": null,
   "metadata": {
    "colab": {
     "base_uri": "https://localhost:8080/",
     "height": 34
    },
    "colab_type": "code",
    "id": "VklpHeAr3OhL",
    "outputId": "c1b24455-27b4-46e7-c942-c5846bfe4fd6"
   },
   "outputs": [],
   "source": [
    "vector = model['bilgisayar']\n",
    "vector.shape"
   ]
  },
  {
   "cell_type": "code",
   "execution_count": null,
   "metadata": {
    "colab": {
     "base_uri": "https://localhost:8080/",
     "height": 34
    },
    "colab_type": "code",
    "id": "7VxD4WMy3bep",
    "outputId": "ab2f9081-955b-4c97-bab1-f2b1d08e60b5"
   },
   "outputs": [],
   "source": [
    "vector = model.wv.word_vec('türkiye', use_norm=True)\n",
    "vector"
   ]
  },
  {
   "cell_type": "code",
   "execution_count": null,
   "metadata": {
    "colab": {},
    "colab_type": "code",
    "id": "vuBktTVG3h6P"
   },
   "outputs": [],
   "source": []
  },
  {
   "cell_type": "code",
   "execution_count": null,
   "metadata": {},
   "outputs": [],
   "source": [
    "import gensim\n",
    "import matplotlib.pyplot as plt\n",
    "import numpy as np\n",
    "import sklearn\n",
    "from sklearn import decomposition\n",
    "\n",
    "def plotWords(w2v):\n",
    "    w2v_np = []\n",
    "    labels = []\n",
    "    for word in w2v.vocab.keys():\n",
    "        w2v_np.append(w2v[word])\n",
    "        labels.append(word)\n",
    "    print(\"Shape = {}\".format(np.shape(w2v_np)))\n",
    "\n",
    "    pca = sklearn.decomposition.PCA(n_components=2)\n",
    "    pca.fit(w2v_np)\n",
    "    reduced= pca.transform(w2v_np)\n",
    "\n",
    "    cnt=0\n",
    "    lim =2.0 \n",
    "    plt.rcParams.update({'font.size':9})\n",
    "    plt.rcParams[\"figure.figsize\"] = [18.0,18.0]\n",
    "    for index,vec in enumerate(reduced):\n",
    "        if index < 50000: continue\n",
    "        if cnt <250:\n",
    "            x,y=vec[0],vec[1]\n",
    "            if x>lim or y>lim or x<-lim or y<-lim: continue\n",
    "            plt.scatter(x,y)\n",
    "            plt.annotate(labels[index],xy=(x,y))\n",
    "            cnt+=1\n",
    "    plt.show()\n",
    "  "
   ]
  },
  {
   "cell_type": "code",
   "execution_count": null,
   "metadata": {
    "colab": {
     "base_uri": "https://localhost:8080/",
     "height": 1000
    },
    "colab_type": "code",
    "id": "cLQnpig_9QyA",
    "outputId": "3cb88be7-ee35-4f0f-d746-de48f549257d"
   },
   "outputs": [],
   "source": [
    "plotWords(model)"
   ]
  },
  {
   "cell_type": "code",
   "execution_count": null,
   "metadata": {
    "colab": {},
    "colab_type": "code",
    "id": "P8h41auW9Rez"
   },
   "outputs": [],
   "source": []
  }
 ],
 "metadata": {
  "colab": {
   "collapsed_sections": [],
   "name": "word2vec_tr_analysis.ipynb",
   "provenance": []
  },
  "kernelspec": {
   "display_name": "Python 3",
   "language": "python",
   "name": "python3"
  },
  "language_info": {
   "codemirror_mode": {
    "name": "ipython",
    "version": 3
   },
   "file_extension": ".py",
   "mimetype": "text/x-python",
   "name": "python",
   "nbconvert_exporter": "python",
   "pygments_lexer": "ipython3",
   "version": "3.6.10"
  }
 },
 "nbformat": 4,
 "nbformat_minor": 4
}
